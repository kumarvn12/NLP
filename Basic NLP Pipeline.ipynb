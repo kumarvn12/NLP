{
 "cells": [
  {
   "cell_type": "code",
   "execution_count": 1,
   "metadata": {
    "colab": {
     "autoexec": {
      "startup": false,
      "wait_interval": 0
     },
     "base_uri": "https://localhost:8080/",
     "height": 323
    },
    "colab_type": "code",
    "executionInfo": {
     "elapsed": 507606,
     "status": "ok",
     "timestamp": 1527106603643,
     "user": {
      "displayName": "RAHUL KUMAR",
      "photoUrl": "//lh5.googleusercontent.com/-Tsfm_ry7qgQ/AAAAAAAAAAI/AAAAAAAAIZs/NIipKd39rF4/s50-c-k-no/photo.jpg",
      "userId": "113791344848346830729"
     },
     "user_tz": -330
    },
    "id": "pH_LHafFfLSR",
    "outputId": "2386718d-dfac-4331-ffc7-1173f2e7e540"
   },
   "outputs": [
    {
     "name": "stdout",
     "output_type": "stream",
     "text": [
      "Collecting https://github.com/explosion/spacy-models/releases/download/en_core_web_lg-2.0.0/en_core_web_lg-2.0.0.tar.gz\n",
      "\u001b[?25l  Downloading https://github.com/explosion/spacy-models/releases/download/en_core_web_lg-2.0.0/en_core_web_lg-2.0.0.tar.gz (852.3MB)\n",
      "\u001b[K    75% |██████�"
     ]
    },
    {
     "name": "stdout",
     "output_type": "stream",
     "text": [
      "\u001b[K    100% |████████████████████████████████| 852.3MB 33.7MB/s \n",
      "\u001b[?25hInstalling collected packages: en-core-web-lg\n",
      "  Running setup.py install for en-core-web-lg ... \u001b[?25l-\b \b\\\b \b|\b \b/\b \b-\b \b\\\b \b|\b \b/\b \b-\b \b\\\b \b|\b \b/\b \bdone\n",
      "\u001b[?25hSuccessfully installed en-core-web-lg-2.0.0\n",
      "\n",
      "\u001b[93m    Linking successful\u001b[0m\n",
      "    /usr/local/lib/python2.7/dist-packages/en_core_web_lg -->\n",
      "    /usr/local/lib/python2.7/dist-packages/spacy/data/en_core_web_lg\n",
      "\n",
      "    You can now load the model via spacy.load('en_core_web_lg')\n",
      "\n",
      "[nltk_data] Downloading package punkt to /content/nltk_data...\n",
      "[nltk_data]   Unzipping tokenizers/punkt.zip.\n",
      "[nltk_data] Downloading package averaged_perceptron_tagger to\n",
      "[nltk_data]     /content/nltk_data...\n",
      "[nltk_data]   Unzipping taggers/averaged_perceptron_tagger.zip.\n"
     ]
    }
   ],
   "source": [
    "! pip install -q spacy \n",
    "! pip install -q tabulate\n",
    "! python -m spacy download en_core_web_lg\n",
    "\n",
    "\n",
    "import nltk\n",
    "nltk.download('punkt')\n",
    "nltk.download('averaged_perceptron_tagger')\n",
    "\n",
    "from collections import Counter\n",
    "import spacy\n",
    "from tabulate import tabulate\n",
    "nlp = spacy.load('en_core_web_lg')\n"
   ]
  },
  {
   "cell_type": "markdown",
   "metadata": {
    "colab_type": "text",
    "id": "Lo_NT-CVpRKN"
   },
   "source": [
    "# Basic NLP pipeline\n",
    "\n",
    "\n",
    "*   Sentence tokenizer\n",
    "*   Word Tokenizer\n",
    "*   Parts of speech tagger\n",
    "*   Noun extraction\n",
    "*   Verb Extraction\n",
    "\n"
   ]
  },
  {
   "cell_type": "code",
   "execution_count": 0,
   "metadata": {
    "colab": {
     "autoexec": {
      "startup": false,
      "wait_interval": 0
     }
    },
    "colab_type": "code",
    "id": "9KDoN0TBfM5H"
   },
   "outputs": [],
   "source": [
    "text = u\"\"\"\n",
    "Dealing with textual data is very crucial so to handle these text data we need some \n",
    "basic text processing steps. Most of the processing steps covered in this section are \n",
    "commonly used in NLP and involve the combination of several steps into a single \n",
    "executable flow. This is usually referred to as the NLP pipeline. These flow \n",
    "can be a combination of tokenization, stemming, word frequency, parts of \n",
    "speech tagging, etc.\n",
    "\"\"\"\n",
    "\n",
    "sentenses = nltk.sent_tokenize(text)\n",
    "\n",
    "words = [nltk.word_tokenize(s) for s in sentenses]\n",
    "\n",
    "tagged_wt = [nltk.pos_tag(w)for w in words]\n",
    "\n",
    "patternPOS= []\n",
    "for tag in tagged_wt:\n",
    "  patternPOS.append([v for k,v in tag])\n",
    "  \n",
    "nouns = []  \n",
    "for tag in tagged_wt:\n",
    "  nouns.append([k for k,v in tag if v in ['NN','NNS','NNP','NNPS']])\n",
    "\n",
    "\n",
    "verbs = []  \n",
    "for tag in tagged_wt:\n",
    "  verbs.append([k for k,v in tag if v in ['VB','VBD','VBG','VBN','VBP','VBZ']])\n",
    "\n",
    "\n",
    "\n"
   ]
  },
  {
   "cell_type": "code",
   "execution_count": 8,
   "metadata": {
    "colab": {
     "autoexec": {
      "startup": false,
      "wait_interval": 0
     },
     "base_uri": "https://localhost:8080/",
     "height": 139
    },
    "colab_type": "code",
    "executionInfo": {
     "elapsed": 884,
     "status": "ok",
     "timestamp": 1527106776910,
     "user": {
      "displayName": "RAHUL KUMAR",
      "photoUrl": "//lh5.googleusercontent.com/-Tsfm_ry7qgQ/AAAAAAAAAAI/AAAAAAAAIZs/NIipKd39rF4/s50-c-k-no/photo.jpg",
      "userId": "113791344848346830729"
     },
     "user_tz": -330
    },
    "id": "7s7Vh8mDOjsY",
    "outputId": "de813de0-c384-4d1c-8c89-42a20345d457"
   },
   "outputs": [
    {
     "name": "stdout",
     "output_type": "stream",
     "text": [
      "Sentences are: [u'\\nDealing with textual data is very crucial so to handle these text data we need some \\nbasic text processing steps.', u'Most of the processing steps covered in this section are \\ncommonly used in NLP and involve the combination of several steps into a single \\nexecutable flow.', u'This is usually referred to as the NLP pipeline.', u'These flow \\ncan be a combination of tokenization, stemming, word frequency, parts of \\nspeech tagging, etc.']\n",
      "Words are:  [[u'Dealing', u'with', u'textual', u'data', u'is', u'very', u'crucial', u'so', u'to', u'handle', u'these', u'text', u'data', u'we', u'need', u'some', u'basic', u'text', u'processing', u'steps', u'.'], [u'Most', u'of', u'the', u'processing', u'steps', u'covered', u'in', u'this', u'section', u'are', u'commonly', u'used', u'in', u'NLP', u'and', u'involve', u'the', u'combination', u'of', u'several', u'steps', u'into', u'a', u'single', u'executable', u'flow', u'.'], [u'This', u'is', u'usually', u'referred', u'to', u'as', u'the', u'NLP', u'pipeline', u'.'], [u'These', u'flow', u'can', u'be', u'a', u'combination', u'of', u'tokenization', u',', u'stemming', u',', u'word', u'frequency', u',', u'parts', u'of', u'speech', u'tagging', u',', u'etc', u'.']]\n",
      "POS are:  [[(u'Dealing', 'VBG'), (u'with', 'IN'), (u'textual', 'JJ'), (u'data', 'NNS'), (u'is', 'VBZ'), (u'very', 'RB'), (u'crucial', 'JJ'), (u'so', 'RB'), (u'to', 'TO'), (u'handle', 'VB'), (u'these', 'DT'), (u'text', 'JJ'), (u'data', 'NN'), (u'we', 'PRP'), (u'need', 'VBP'), (u'some', 'DT'), (u'basic', 'JJ'), (u'text', 'NN'), (u'processing', 'NN'), (u'steps', 'NNS'), (u'.', '.')], [(u'Most', 'JJS'), (u'of', 'IN'), (u'the', 'DT'), (u'processing', 'NN'), (u'steps', 'NNS'), (u'covered', 'VBN'), (u'in', 'IN'), (u'this', 'DT'), (u'section', 'NN'), (u'are', 'VBP'), (u'commonly', 'RB'), (u'used', 'VBN'), (u'in', 'IN'), (u'NLP', 'NNP'), (u'and', 'CC'), (u'involve', 'VB'), (u'the', 'DT'), (u'combination', 'NN'), (u'of', 'IN'), (u'several', 'JJ'), (u'steps', 'NNS'), (u'into', 'IN'), (u'a', 'DT'), (u'single', 'JJ'), (u'executable', 'JJ'), (u'flow', 'NN'), (u'.', '.')], [(u'This', 'DT'), (u'is', 'VBZ'), (u'usually', 'RB'), (u'referred', 'VBN'), (u'to', 'TO'), (u'as', 'IN'), (u'the', 'DT'), (u'NLP', 'NNP'), (u'pipeline', 'NN'), (u'.', '.')], [(u'These', 'DT'), (u'flow', 'NN'), (u'can', 'MD'), (u'be', 'VB'), (u'a', 'DT'), (u'combination', 'NN'), (u'of', 'IN'), (u'tokenization', 'NN'), (u',', ','), (u'stemming', 'VBG'), (u',', ','), (u'word', 'NN'), (u'frequency', 'NN'), (u',', ','), (u'parts', 'NNS'), (u'of', 'IN'), (u'speech', 'NN'), (u'tagging', 'NN'), (u',', ','), (u'etc', 'FW'), (u'.', '.')]]\n",
      "POS pattern :  [['VBG', 'IN', 'JJ', 'NNS', 'VBZ', 'RB', 'JJ', 'RB', 'TO', 'VB', 'DT', 'JJ', 'NN', 'PRP', 'VBP', 'DT', 'JJ', 'NN', 'NN', 'NNS', '.'], ['JJS', 'IN', 'DT', 'NN', 'NNS', 'VBN', 'IN', 'DT', 'NN', 'VBP', 'RB', 'VBN', 'IN', 'NNP', 'CC', 'VB', 'DT', 'NN', 'IN', 'JJ', 'NNS', 'IN', 'DT', 'JJ', 'JJ', 'NN', '.'], ['DT', 'VBZ', 'RB', 'VBN', 'TO', 'IN', 'DT', 'NNP', 'NN', '.'], ['DT', 'NN', 'MD', 'VB', 'DT', 'NN', 'IN', 'NN', ',', 'VBG', ',', 'NN', 'NN', ',', 'NNS', 'IN', 'NN', 'NN', ',', 'FW', '.']]\n",
      "Extracted nouns are:  [[u'data', u'data', u'text', u'processing', u'steps'], [u'processing', u'steps', u'section', u'NLP', u'combination', u'steps', u'flow'], [u'NLP', u'pipeline'], [u'flow', u'combination', u'tokenization', u'word', u'frequency', u'parts', u'speech', u'tagging']]\n",
      "Extracted verbs are:  [[u'Dealing', u'is', u'handle', u'need'], [u'covered', u'are', u'used', u'involve'], [u'is', u'referred'], [u'be', u'stemming']]\n"
     ]
    }
   ],
   "source": [
    "print \"Sentences are:\", sentenses\n",
    "print \"Words are: \", words\n",
    "print \"POS are: \", tagged_wt\n",
    "print \"POS pattern : \",patternPOS\n",
    "print \"Extracted nouns are: \",nouns\n",
    "print \"Extracted verbs are: \",verbs\n"
   ]
  },
  {
   "cell_type": "code",
   "execution_count": 4,
   "metadata": {
    "colab": {
     "autoexec": {
      "startup": false,
      "wait_interval": 0
     },
     "base_uri": "https://localhost:8080/",
     "height": 136
    },
    "colab_type": "code",
    "executionInfo": {
     "elapsed": 829,
     "status": "ok",
     "timestamp": 1527106606645,
     "user": {
      "displayName": "RAHUL KUMAR",
      "photoUrl": "//lh5.googleusercontent.com/-Tsfm_ry7qgQ/AAAAAAAAAAI/AAAAAAAAIZs/NIipKd39rF4/s50-c-k-no/photo.jpg",
      "userId": "113791344848346830729"
     },
     "user_tz": -330
    },
    "id": "zQuWyFPDPGAM",
    "outputId": "d5f56023-9272-4d14-fc67-3b269f871c34"
   },
   "outputs": [
    {
     "name": "stdout",
     "output_type": "stream",
     "text": [
      "Noun           Count\n",
      "-----------  -------\n",
      "step               3\n",
      "combination        2\n",
      "text               2\n",
      "processing         2\n",
      "datum              2\n"
     ]
    }
   ],
   "source": [
    "doc = nlp(text)\n",
    "noun_counter = Counter(token.lemma_ for token in doc if token.pos_ == 'NOUN')\n",
    "\n",
    "print(tabulate(noun_counter.most_common(5), headers=['Noun', 'Count']))"
   ]
  },
  {
   "cell_type": "markdown",
   "metadata": {
    "colab_type": "text",
    "id": "VN6Cd2o5qYfs"
   },
   "source": [
    "# Dependency parsing"
   ]
  },
  {
   "cell_type": "code",
   "execution_count": 5,
   "metadata": {
    "colab": {
     "autoexec": {
      "startup": false,
      "wait_interval": 0
     },
     "base_uri": "https://localhost:8080/",
     "height": 388
    },
    "colab_type": "code",
    "executionInfo": {
     "elapsed": 816,
     "status": "ok",
     "timestamp": 1527106607535,
     "user": {
      "displayName": "RAHUL KUMAR",
      "photoUrl": "//lh5.googleusercontent.com/-Tsfm_ry7qgQ/AAAAAAAAAAI/AAAAAAAAIZs/NIipKd39rF4/s50-c-k-no/photo.jpg",
      "userId": "113791344848346830729"
     },
     "user_tz": -330
    },
    "id": "-vSkHsFyPI_B",
    "outputId": "6b935879-a567-4bfc-e1df-e6dc8fd6d43e"
   },
   "outputs": [
    {
     "data": {
      "text/html": [
       "<svg xmlns=\"http://www.w3.org/2000/svg\" xmlns:xlink=\"http://www.w3.org/1999/xlink\" id=\"0\" class=\"displacy\" width=\"1310\" height=\"347\" style=\"max-width: none; height: 347px; color: #000000; background: #ffffff; font-family: Arial\">\n",
       "<text class=\"displacy-token\" fill=\"currentColor\" text-anchor=\"middle\" y=\"257\">\n",
       "    <tspan class=\"displacy-word\" fill=\"currentColor\" x=\"50\">This</tspan>\n",
       "    <tspan class=\"displacy-tag\" dy=\"2em\" fill=\"currentColor\" x=\"50\">DET</tspan>\n",
       "</text>\n",
       "\n",
       "<text class=\"displacy-token\" fill=\"currentColor\" text-anchor=\"middle\" y=\"257\">\n",
       "    <tspan class=\"displacy-word\" fill=\"currentColor\" x=\"190\">is</tspan>\n",
       "    <tspan class=\"displacy-tag\" dy=\"2em\" fill=\"currentColor\" x=\"190\">VERB</tspan>\n",
       "</text>\n",
       "\n",
       "<text class=\"displacy-token\" fill=\"currentColor\" text-anchor=\"middle\" y=\"257\">\n",
       "    <tspan class=\"displacy-word\" fill=\"currentColor\" x=\"330\">usually</tspan>\n",
       "    <tspan class=\"displacy-tag\" dy=\"2em\" fill=\"currentColor\" x=\"330\">ADV</tspan>\n",
       "</text>\n",
       "\n",
       "<text class=\"displacy-token\" fill=\"currentColor\" text-anchor=\"middle\" y=\"257\">\n",
       "    <tspan class=\"displacy-word\" fill=\"currentColor\" x=\"470\">referred</tspan>\n",
       "    <tspan class=\"displacy-tag\" dy=\"2em\" fill=\"currentColor\" x=\"470\">VERB</tspan>\n",
       "</text>\n",
       "\n",
       "<text class=\"displacy-token\" fill=\"currentColor\" text-anchor=\"middle\" y=\"257\">\n",
       "    <tspan class=\"displacy-word\" fill=\"currentColor\" x=\"610\">to</tspan>\n",
       "    <tspan class=\"displacy-tag\" dy=\"2em\" fill=\"currentColor\" x=\"610\">ADP</tspan>\n",
       "</text>\n",
       "\n",
       "<text class=\"displacy-token\" fill=\"currentColor\" text-anchor=\"middle\" y=\"257\">\n",
       "    <tspan class=\"displacy-word\" fill=\"currentColor\" x=\"750\">as</tspan>\n",
       "    <tspan class=\"displacy-tag\" dy=\"2em\" fill=\"currentColor\" x=\"750\">ADP</tspan>\n",
       "</text>\n",
       "\n",
       "<text class=\"displacy-token\" fill=\"currentColor\" text-anchor=\"middle\" y=\"257\">\n",
       "    <tspan class=\"displacy-word\" fill=\"currentColor\" x=\"890\">the</tspan>\n",
       "    <tspan class=\"displacy-tag\" dy=\"2em\" fill=\"currentColor\" x=\"890\">DET</tspan>\n",
       "</text>\n",
       "\n",
       "<text class=\"displacy-token\" fill=\"currentColor\" text-anchor=\"middle\" y=\"257\">\n",
       "    <tspan class=\"displacy-word\" fill=\"currentColor\" x=\"1030\">NLP</tspan>\n",
       "    <tspan class=\"displacy-tag\" dy=\"2em\" fill=\"currentColor\" x=\"1030\">PROPN</tspan>\n",
       "</text>\n",
       "\n",
       "<text class=\"displacy-token\" fill=\"currentColor\" text-anchor=\"middle\" y=\"257\">\n",
       "    <tspan class=\"displacy-word\" fill=\"currentColor\" x=\"1170\">pipeline.</tspan>\n",
       "    <tspan class=\"displacy-tag\" dy=\"2em\" fill=\"currentColor\" x=\"1170\">NOUN</tspan>\n",
       "</text>\n",
       "\n",
       "<g class=\"displacy-arrow\">\n",
       "    <path class=\"displacy-arc\" id=\"arrow-0-0\" stroke-width=\"2px\" d=\"M70,212 C70,2 470,2 470,212\" fill=\"none\" stroke=\"currentColor\"/>\n",
       "    <text dy=\"1.25em\" style=\"font-size: 0.8em; letter-spacing: 1px\">\n",
       "        <textPath xlink:href=\"#arrow-0-0\" class=\"displacy-label\" startOffset=\"50%\" fill=\"currentColor\" text-anchor=\"middle\">nsubjpass</textPath>\n",
       "    </text>\n",
       "    <path class=\"displacy-arrowhead\" d=\"M470,214 L478,202 462,202\" fill=\"currentColor\"/>\n",
       "</g>\n",
       "\n",
       "<g class=\"displacy-arrow\">\n",
       "    <path class=\"displacy-arc\" id=\"arrow-0-1\" stroke-width=\"2px\" d=\"M210,212 C210,72 465,72 465,212\" fill=\"none\" stroke=\"currentColor\"/>\n",
       "    <text dy=\"1.25em\" style=\"font-size: 0.8em; letter-spacing: 1px\">\n",
       "        <textPath xlink:href=\"#arrow-0-1\" class=\"displacy-label\" startOffset=\"50%\" fill=\"currentColor\" text-anchor=\"middle\">auxpass</textPath>\n",
       "    </text>\n",
       "    <path class=\"displacy-arrowhead\" d=\"M465,214 L473,202 457,202\" fill=\"currentColor\"/>\n",
       "</g>\n",
       "\n",
       "<g class=\"displacy-arrow\">\n",
       "    <path class=\"displacy-arc\" id=\"arrow-0-2\" stroke-width=\"2px\" d=\"M350,212 C350,142 460,142 460,212\" fill=\"none\" stroke=\"currentColor\"/>\n",
       "    <text dy=\"1.25em\" style=\"font-size: 0.8em; letter-spacing: 1px\">\n",
       "        <textPath xlink:href=\"#arrow-0-2\" class=\"displacy-label\" startOffset=\"50%\" fill=\"currentColor\" text-anchor=\"middle\">advmod</textPath>\n",
       "    </text>\n",
       "    <path class=\"displacy-arrowhead\" d=\"M460,214 L468,202 452,202\" fill=\"currentColor\"/>\n",
       "</g>\n",
       "\n",
       "<g class=\"displacy-arrow\">\n",
       "    <path class=\"displacy-arc\" id=\"arrow-0-3\" stroke-width=\"2px\" d=\"M490,212 C490,142 600,142 600,212\" fill=\"none\" stroke=\"currentColor\"/>\n",
       "    <text dy=\"1.25em\" style=\"font-size: 0.8em; letter-spacing: 1px\">\n",
       "        <textPath xlink:href=\"#arrow-0-3\" class=\"displacy-label\" startOffset=\"50%\" fill=\"currentColor\" text-anchor=\"middle\">prep</textPath>\n",
       "    </text>\n",
       "    <path class=\"displacy-arrowhead\" d=\"M600,214 L608,202 592,202\" fill=\"currentColor\"/>\n",
       "</g>\n",
       "\n",
       "<g class=\"displacy-arrow\">\n",
       "    <path class=\"displacy-arc\" id=\"arrow-0-4\" stroke-width=\"2px\" d=\"M490,212 C490,72 745,72 745,212\" fill=\"none\" stroke=\"currentColor\"/>\n",
       "    <text dy=\"1.25em\" style=\"font-size: 0.8em; letter-spacing: 1px\">\n",
       "        <textPath xlink:href=\"#arrow-0-4\" class=\"displacy-label\" startOffset=\"50%\" fill=\"currentColor\" text-anchor=\"middle\">prep</textPath>\n",
       "    </text>\n",
       "    <path class=\"displacy-arrowhead\" d=\"M745,214 L753,202 737,202\" fill=\"currentColor\"/>\n",
       "</g>\n",
       "\n",
       "<g class=\"displacy-arrow\">\n",
       "    <path class=\"displacy-arc\" id=\"arrow-0-5\" stroke-width=\"2px\" d=\"M910,212 C910,72 1165,72 1165,212\" fill=\"none\" stroke=\"currentColor\"/>\n",
       "    <text dy=\"1.25em\" style=\"font-size: 0.8em; letter-spacing: 1px\">\n",
       "        <textPath xlink:href=\"#arrow-0-5\" class=\"displacy-label\" startOffset=\"50%\" fill=\"currentColor\" text-anchor=\"middle\">det</textPath>\n",
       "    </text>\n",
       "    <path class=\"displacy-arrowhead\" d=\"M1165,214 L1173,202 1157,202\" fill=\"currentColor\"/>\n",
       "</g>\n",
       "\n",
       "<g class=\"displacy-arrow\">\n",
       "    <path class=\"displacy-arc\" id=\"arrow-0-6\" stroke-width=\"2px\" d=\"M1050,212 C1050,142 1160,142 1160,212\" fill=\"none\" stroke=\"currentColor\"/>\n",
       "    <text dy=\"1.25em\" style=\"font-size: 0.8em; letter-spacing: 1px\">\n",
       "        <textPath xlink:href=\"#arrow-0-6\" class=\"displacy-label\" startOffset=\"50%\" fill=\"currentColor\" text-anchor=\"middle\">compound</textPath>\n",
       "    </text>\n",
       "    <path class=\"displacy-arrowhead\" d=\"M1160,214 L1168,202 1152,202\" fill=\"currentColor\"/>\n",
       "</g>\n",
       "\n",
       "<g class=\"displacy-arrow\">\n",
       "    <path class=\"displacy-arc\" id=\"arrow-0-7\" stroke-width=\"2px\" d=\"M770,212 C770,2 1170,2 1170,212\" fill=\"none\" stroke=\"currentColor\"/>\n",
       "    <text dy=\"1.25em\" style=\"font-size: 0.8em; letter-spacing: 1px\">\n",
       "        <textPath xlink:href=\"#arrow-0-7\" class=\"displacy-label\" startOffset=\"50%\" fill=\"currentColor\" text-anchor=\"middle\">pobj</textPath>\n",
       "    </text>\n",
       "    <path class=\"displacy-arrowhead\" d=\"M1170,214 L1178,202 1162,202\" fill=\"currentColor\"/>\n",
       "</g>\n",
       "</svg>"
      ],
      "text/plain": [
       "<IPython.core.display.HTML object>"
      ]
     },
     "metadata": {
      "tags": []
     },
     "output_type": "display_data"
    }
   ],
   "source": [
    "doc = nlp(sentenses[2])\n",
    "spacy.displacy.render(doc,style='dep', options={'distance' : 140}, jupyter=True)"
   ]
  },
  {
   "cell_type": "markdown",
   "metadata": {
    "colab_type": "text",
    "id": "QMJrQ1e1qeco"
   },
   "source": [
    "# Name Entity Extraction"
   ]
  },
  {
   "cell_type": "code",
   "execution_count": 6,
   "metadata": {
    "colab": {
     "autoexec": {
      "startup": false,
      "wait_interval": 0
     },
     "base_uri": "https://localhost:8080/",
     "height": 612
    },
    "colab_type": "code",
    "executionInfo": {
     "elapsed": 821,
     "status": "ok",
     "timestamp": 1527106608430,
     "user": {
      "displayName": "RAHUL KUMAR",
      "photoUrl": "//lh5.googleusercontent.com/-Tsfm_ry7qgQ/AAAAAAAAAAI/AAAAAAAAIZs/NIipKd39rF4/s50-c-k-no/photo.jpg",
      "userId": "113791344848346830729"
     },
     "user_tz": -330
    },
    "id": "LYyUwUcjokUJ",
    "outputId": "d22557a1-4cb2-4a98-9e2a-65e86f28efb3"
   },
   "outputs": [
    {
     "name": "stdout",
     "output_type": "stream",
     "text": [
      "Entity    Entity Type\n",
      "--------  -------------\n",
      "NLP       ORG\n",
      "()\n",
      "Token        IOB Annotation    Entity Type\n",
      "-----------  ----------------  -------------\n",
      "Most         O\n",
      "of           O\n",
      "the          O\n",
      "processing   O\n",
      "steps        O\n",
      "covered      O\n",
      "in           O\n",
      "this         O\n",
      "section      O\n",
      "are          O\n",
      "             O\n",
      "commonly     O\n",
      "used         O\n",
      "in           O\n",
      "NLP          B                 ORG\n",
      "and          O\n",
      "involve      O\n",
      "the          O\n",
      "combination  O\n",
      "of           O\n",
      "several      O\n",
      "steps        O\n",
      "into         O\n",
      "a            O\n",
      "single       O\n",
      "             O\n",
      "executable   O\n",
      "flow         O\n",
      ".            O\n"
     ]
    }
   ],
   "source": [
    "# doc = nlp(\"Jill laughed at John Johnson.\")\n",
    "doc = nlp(sentenses[1])\n",
    "entity_types = ((ent.text, ent.label_) for ent in doc.ents)\n",
    "print(tabulate(entity_types, headers=['Entity', 'Entity Type']))\n",
    "print()\n",
    "token_entity_info = ((token.text, token.ent_iob_, token.ent_type_,) for token in doc)\n",
    "print(tabulate(token_entity_info, headers=['Token', 'IOB Annotation', 'Entity Type']))"
   ]
  },
  {
   "cell_type": "code",
   "execution_count": 7,
   "metadata": {
    "colab": {
     "autoexec": {
      "startup": false,
      "wait_interval": 0
     },
     "base_uri": "https://localhost:8080/",
     "height": 85
    },
    "colab_type": "code",
    "executionInfo": {
     "elapsed": 899,
     "status": "ok",
     "timestamp": 1527106609402,
     "user": {
      "displayName": "RAHUL KUMAR",
      "photoUrl": "//lh5.googleusercontent.com/-Tsfm_ry7qgQ/AAAAAAAAAAI/AAAAAAAAIZs/NIipKd39rF4/s50-c-k-no/photo.jpg",
      "userId": "113791344848346830729"
     },
     "user_tz": -330
    },
    "id": "IrG35gj4qtNE",
    "outputId": "9908c468-80ed-4343-c27d-2447d2eb030d"
   },
   "outputs": [
    {
     "name": "stdout",
     "output_type": "stream",
     "text": [
      "Entity    Entity Type\n",
      "--------  -------------\n",
      "Jack      PERSON\n",
      "India     GPE\n"
     ]
    }
   ],
   "source": [
    "doc = nlp(u\"My name is Jack and I live in India.\")\n",
    "\n",
    "entity_types = ((ent.text, ent.label_) for ent in doc.ents)\n",
    "print(tabulate(entity_types, headers=['Entity', 'Entity Type']))"
   ]
  }
 ],
 "metadata": {
  "colab": {
   "default_view": {},
   "name": "Chapter 4.ipynb",
   "provenance": [],
   "version": "0.3.2",
   "views": {}
  },
  "kernelspec": {
   "display_name": "Python 2",
   "name": "python2"
  }
 },
 "nbformat": 4,
 "nbformat_minor": 0
}
